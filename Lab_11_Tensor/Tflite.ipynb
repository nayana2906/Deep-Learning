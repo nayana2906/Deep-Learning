{
 "cells": [
  {
   "cell_type": "code",
   "execution_count": 1,
   "id": "d2735ac8",
   "metadata": {},
   "outputs": [
    {
     "name": "stdout",
     "output_type": "stream",
     "text": [
      "Epoch 1/2\n",
      "1875/1875 [==============================] - 33s 17ms/step - loss: 0.2027 - accuracy: 0.9405 - val_loss: 0.0799 - val_accuracy: 0.9743\n",
      "Epoch 2/2\n",
      "1875/1875 [==============================] - 33s 18ms/step - loss: 0.0673 - accuracy: 0.9793 - val_loss: 0.0506 - val_accuracy: 0.9852\n"
     ]
    },
    {
     "name": "stderr",
     "output_type": "stream",
     "text": [
      "WARNING:absl:Found untraced functions such as _jit_compiled_convolution_op, _jit_compiled_convolution_op while saving (showing 2 of 2). These functions will not be directly callable after loading.\n"
     ]
    },
    {
     "name": "stdout",
     "output_type": "stream",
     "text": [
      "INFO:tensorflow:Assets written to: C:\\Users\\LENOVO\\AppData\\Local\\Temp\\tmpn98qmy8c\\assets\n"
     ]
    },
    {
     "name": "stderr",
     "output_type": "stream",
     "text": [
      "INFO:tensorflow:Assets written to: C:\\Users\\LENOVO\\AppData\\Local\\Temp\\tmpn98qmy8c\\assets\n"
     ]
    },
    {
     "name": "stdout",
     "output_type": "stream",
     "text": [
      "Quantized model has been saved as 'quantized_model.tflite'\n"
     ]
    }
   ],
   "source": [
    "import tensorflow as tf\n",
    "import numpy as np\n",
    "\n",
    "# Create a simple CNN model\n",
    "def create_model():\n",
    "    model = tf.keras.Sequential([\n",
    "        tf.keras.layers.Conv2D(16, (3, 3), activation='relu', input_shape=(28, 28, 1)),\n",
    "        tf.keras.layers.MaxPooling2D((2, 2)),\n",
    "        tf.keras.layers.Conv2D(32, (3, 3), activation='relu'),\n",
    "        tf.keras.layers.MaxPooling2D((2, 2)),\n",
    "        tf.keras.layers.Flatten(),\n",
    "        tf.keras.layers.Dense(10, activation='softmax')\n",
    "    ])\n",
    "    return model\n",
    "\n",
    "# Load and preprocess the data\n",
    "(x_train, y_train), (x_test, y_test) = tf.keras.datasets.mnist.load_data()\n",
    "x_train, x_test = x_train / 255.0, x_test / 255.0  # Normalize the data\n",
    "x_train = x_train[..., np.newaxis]  # Add channel dimension\n",
    "x_test = x_test[..., np.newaxis]\n",
    "\n",
    "# Compile and train the model briefly\n",
    "model = create_model()\n",
    "model.compile(optimizer='adam', loss='sparse_categorical_crossentropy', metrics=['accuracy'])\n",
    "model.fit(x_train, y_train, epochs=2, validation_data=(x_test, y_test))\n",
    "\n",
    "# Convert the trained model to TensorFlow Lite format with quantization\n",
    "converter = tf.lite.TFLiteConverter.from_keras_model(model)\n",
    "converter.optimizations = [tf.lite.Optimize.DEFAULT]  # Enable default quantization\n",
    "\n",
    "# Convert the model\n",
    "quantized_model = converter.convert()\n",
    "\n",
    "# Save the quantized model\n",
    "with open(\"quantized_model.tflite\", \"wb\") as f:\n",
    "    f.write(quantized_model)\n",
    "\n",
    "print(\"Quantized model has been saved as 'quantized_model.tflite'\")\n",
    "\n",
    "# Optional: Load and test the quantized model for inference\n",
    "interpreter = tf.lite.Interpreter(model_path=\"quantized_model.tflite\")\n",
    "interpreter.allocate_tensors()\n",
    "\n",
    "\n"
   ]
  },
  {
   "cell_type": "code",
   "execution_count": 4,
   "id": "f6dbef19",
   "metadata": {},
   "outputs": [
    {
     "name": "stdout",
     "output_type": "stream",
     "text": [
      "Quantized model output: [[3.2195149e-10 4.3767116e-08 5.8189962e-06 5.7354346e-06 5.5490773e-10\n",
      "  2.1677844e-10 7.9295260e-15 9.9998713e-01 2.9986435e-08 1.2897966e-06]]\n",
      "Predicted class: 7\n",
      "Maximum value (confidence): 0.9999871\n"
     ]
    },
    {
     "data": {
      "image/png": "[encoded data removed]",
      "text/plain": [
       "<Figure size 1000x400 with 2 Axes>"
      ]
     },
     "metadata": {},
     "output_type": "display_data"
    }
   ],
   "source": [
    "import numpy as np\n",
    "import matplotlib.pyplot as plt\n",
    "\n",
    "# Define input and output details\n",
    "input_details = interpreter.get_input_details()\n",
    "output_details = interpreter.get_output_details()\n",
    "\n",
    "# Ensure the input sample is in FLOAT32 format\n",
    "sample_input = x_test[0:1].astype(np.float32)  # Take one sample and convert to FLOAT32\n",
    "interpreter.set_tensor(input_details[0]['index'], sample_input)\n",
    "interpreter.invoke()\n",
    "output_data = interpreter.get_tensor(output_details[0]['index'])\n",
    "\n",
    "# Find the maximum value in the model output and its index (predicted class)\n",
    "max_value = np.max(output_data)\n",
    "predicted_class = np.argmax(output_data)\n",
    "\n",
    "print(\"Quantized model output:\", output_data)\n",
    "print(\"Predicted class:\", predicted_class)\n",
    "print(\"Maximum value (confidence):\", max_value)\n",
    "\n",
    "# Plot the test image and the output data\n",
    "plt.figure(figsize=(10, 4))\n",
    "\n",
    "# Plot the test image\n",
    "plt.subplot(1, 2, 1)\n",
    "plt.imshow(x_test[0].squeeze(), cmap='gray')\n",
    "plt.title(\"Test Image\")\n",
    "plt.axis('off')\n",
    "\n",
    "# Plot the output confidence values\n",
    "plt.subplot(1, 2, 2)\n",
    "plt.bar(range(10), output_data[0], color='skyblue')\n",
    "plt.xlabel('Class')\n",
    "plt.ylabel('Confidence')\n",
    "plt.title(f'Predicted Class: {predicted_class} with Confidence: {max_value:.4f}')\n",
    "\n",
    "plt.tight_layout()\n",
    "plt.show()\n"
   ]
  },
  {
   "cell_type": "code",
   "execution_count": null,
   "id": "b952ccb1",
   "metadata": {},
   "outputs": [],
   "source": []
  },
  {
   "cell_type": "code",
   "execution_count": null,
   "id": "5342b62f",
   "metadata": {},
   "outputs": [],
   "source": []
  }
 ],
 "metadata": {
  "kernelspec": {
   "display_name": "Python 3 (ipykernel)",
   "language": "python",
   "name": "python3"
  },
  "language_info": {
   "codemirror_mode": {
    "name": "ipython",
    "version": 3
   },
   "file_extension": ".py",
   "mimetype": "text/x-python",
   "name": "python",
   "nbconvert_exporter": "python",
   "pygments_lexer": "ipython3",
   "version": "3.7.16"
  }
 },
 "nbformat": 4,
 "nbformat_minor": 5
}
