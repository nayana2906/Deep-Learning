{
  "cells": [
    {
      "cell_type": "code",
      "execution_count": null,
      "id": "1050e356",
      "metadata": {
        "id": "1050e356",
        "outputId": "996e9d44-dd3f-4d74-a055-621abeccdc05"
      },
      "outputs": [
        {
          "name": "stdout",
          "output_type": "stream",
          "text": [
            "Epoch 1/3\n",
            "1688/1688 [==============================] - 9s 5ms/step - loss: 0.2754 - accuracy: 0.9211 - val_loss: 0.1286 - val_accuracy: 0.9655\n",
            "Epoch 2/3\n",
            "1688/1688 [==============================] - 7s 4ms/step - loss: 0.1217 - accuracy: 0.9638 - val_loss: 0.0927 - val_accuracy: 0.9728\n",
            "Epoch 3/3\n",
            "1688/1688 [==============================] - 7s 4ms/step - loss: 0.0817 - accuracy: 0.9757 - val_loss: 0.0895 - val_accuracy: 0.9735\n",
            "Accuracy on clean test data: 97.02%\n",
            "Accuracy on adversarial examples: 13.94%\n",
            "Epoch 1/3\n",
            "Epoch 2/3\n",
            "Epoch 3/3\n",
            "Accuracy on clean test data after adversarial training: 95.28%\n",
            "Accuracy on adversarial examples: 73.40%\n"
          ]
        }
      ],
      "source": [
        "import tensorflow as tf\n",
        "from tensorflow.keras.datasets import mnist\n",
        "from tensorflow.keras.models import Sequential\n",
        "from tensorflow.keras.layers import Dense, Flatten\n",
        "import numpy as np\n",
        "\n",
        "# Load and preprocess data\n",
        "(x_train, y_train), (x_test, y_test) = mnist.load_data()\n",
        "x_train, x_test = x_train / 255.0, x_test / 255.0\n",
        "\n",
        "# Create a simple model\n",
        "def create_model():\n",
        "    model = Sequential([\n",
        "        Flatten(input_shape=(28, 28)),\n",
        "        Dense(128, activation='relu'),\n",
        "        Dense(10, activation='softmax')\n",
        "    ])\n",
        "    model.compile(optimizer='adam',\n",
        "                  loss='sparse_categorical_crossentropy',\n",
        "                  metrics=['accuracy'])\n",
        "    return model\n",
        "\n",
        "# Generate adversarial examples\n",
        "def generate_adversarial_example(model, x, y, epsilon=0.1):\n",
        "    x_tensor = tf.convert_to_tensor(x, dtype=tf.float32)\n",
        "    y_tensor = tf.convert_to_tensor(y)\n",
        "\n",
        "    with tf.GradientTape() as tape:\n",
        "        tape.watch(x_tensor)\n",
        "        prediction = model(x_tensor)\n",
        "        loss = tf.keras.losses.sparse_categorical_crossentropy(y_tensor, prediction)\n",
        "\n",
        "    gradient = tape.gradient(loss, x_tensor)\n",
        "    adversarial_example = x_tensor + epsilon * tf.sign(gradient)\n",
        "    adversarial_example = tf.clip_by_value(adversarial_example, 0, 1)  # Keep in [0,1] range\n",
        "    return adversarial_example.numpy()\n",
        "\n",
        "# Evaluate model on adversarial examples\n",
        "def evaluate_adversarial(model, x, y, epsilon=0.1):\n",
        "    x_adv = generate_adversarial_example(model, x, y, epsilon)\n",
        "    _, accuracy = model.evaluate(x_adv, y, verbose=0)\n",
        "    print(f\"Accuracy on adversarial examples: {accuracy * 100:.2f}%\")\n",
        "\n",
        "# Adversarial training function\n",
        "def adversarial_training(model, x_train, y_train, epochs=5, epsilon=0.1):\n",
        "    for epoch in range(epochs):\n",
        "        print(f\"Epoch {epoch+1}/{epochs}\")\n",
        "        for i in range(len(x_train)):\n",
        "            x = x_train[i:i+1]\n",
        "            y = y_train[i:i+1]\n",
        "            # Generate adversarial example\n",
        "            x_adv = generate_adversarial_example(model, x, y, epsilon)\n",
        "            # Train on both original and adversarial examples\n",
        "            model.train_on_batch(x, y)\n",
        "            model.train_on_batch(x_adv, y)\n",
        "\n",
        "# Create and train the model normally\n",
        "model = create_model()\n",
        "model.fit(x_train, y_train, epochs=3, validation_split=0.1)\n",
        "\n",
        "# Evaluate on clean test data\n",
        "_, clean_accuracy = model.evaluate(x_test, y_test, verbose=0)\n",
        "print(f\"Accuracy on clean test data: {clean_accuracy * 100:.2f}%\")\n",
        "\n",
        "# Evaluate on adversarial examples without adversarial training\n",
        "evaluate_adversarial(model, x_test, y_test, epsilon=0.1)\n",
        "\n",
        "# Adversarial training\n",
        "adversarial_training(model, x_train, y_train, epochs=3, epsilon=0.1)\n",
        "\n",
        "# Evaluate on clean test data after adversarial training\n",
        "_, adv_trained_clean_accuracy = model.evaluate(x_test, y_test, verbose=0)\n",
        "print(f\"Accuracy on clean test data after adversarial training: {adv_trained_clean_accuracy * 100:.2f}%\")\n",
        "\n",
        "# Evaluate on adversarial examples after adversarial training\n",
        "evaluate_adversarial(model, x_test, y_test, epsilon=0.1)\n"
      ]
    },
    {
      "cell_type": "code",
      "execution_count": null,
      "id": "2c7cc8ab",
      "metadata": {
        "id": "2c7cc8ab"
      },
      "outputs": [],
      "source": []
    }
  ],
  "metadata": {
    "kernelspec": {
      "display_name": "Python 3 (ipykernel)",
      "language": "python",
      "name": "python3"
    },
    "language_info": {
      "codemirror_mode": {
        "name": "ipython",
        "version": 3
      },
      "file_extension": ".py",
      "mimetype": "text/x-python",
      "name": "python",
      "nbconvert_exporter": "python",
      "pygments_lexer": "ipython3",
      "version": "3.8.13"
    },
    "colab": {
      "provenance": []
    }
  },
  "nbformat": 4,
  "nbformat_minor": 5
}